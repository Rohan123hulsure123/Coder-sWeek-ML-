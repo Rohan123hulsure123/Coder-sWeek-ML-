{
  "nbformat": 4,
  "nbformat_minor": 0,
  "metadata": {
    "colab": {
      "name": "Day2Assignment.ipynb",
      "provenance": []
    },
    "kernelspec": {
      "name": "python3",
      "display_name": "Python 3"
    }
  },
  "cells": [
    {
      "cell_type": "code",
      "metadata": {
        "id": "i6L_8rgqB7qR",
        "colab_type": "code",
        "colab": {}
      },
      "source": [
        "import pandas as pd"
      ],
      "execution_count": 0,
      "outputs": []
    },
    {
      "cell_type": "code",
      "metadata": {
        "id": "0gDfeH6mCz24",
        "colab_type": "code",
        "colab": {
          "base_uri": "https://localhost:8080/",
          "height": 202
        },
        "outputId": "38b5b45f-b861-457f-d301-9422c7868f41"
      },
      "source": [
        "!wget http://iali.in/datasets/Social_Network_Ads.csv"
      ],
      "execution_count": 6,
      "outputs": [
        {
          "output_type": "stream",
          "text": [
            "--2020-06-02 12:44:47--  http://iali.in/datasets/Social_Network_Ads.csv\n",
            "Resolving iali.in (iali.in)... 156.67.222.125\n",
            "Connecting to iali.in (iali.in)|156.67.222.125|:80... connected.\n",
            "HTTP request sent, awaiting response... 200 OK\n",
            "Length: 10926 (11K) [text/plain]\n",
            "Saving to: ‘Social_Network_Ads.csv.1’\n",
            "\n",
            "\rSocial_Network_Ads.   0%[                    ]       0  --.-KB/s               \rSocial_Network_Ads. 100%[===================>]  10.67K  --.-KB/s    in 0s      \n",
            "\n",
            "2020-06-02 12:44:47 (188 MB/s) - ‘Social_Network_Ads.csv.1’ saved [10926/10926]\n",
            "\n"
          ],
          "name": "stdout"
        }
      ]
    },
    {
      "cell_type": "code",
      "metadata": {
        "id": "jDS9wPFrDtj7",
        "colab_type": "code",
        "colab": {}
      },
      "source": [
        "dataset = pd.read_csv('http://iali.in/datasets/Social_Network_Ads.csv')"
      ],
      "execution_count": 0,
      "outputs": []
    },
    {
      "cell_type": "code",
      "metadata": {
        "id": "rWmIuWGkEFK6",
        "colab_type": "code",
        "colab": {
          "base_uri": "https://localhost:8080/",
          "height": 402
        },
        "outputId": "ac3e619e-a102-49df-f925-8cf149d512a5"
      },
      "source": [
        "dataset.head(100)"
      ],
      "execution_count": 12,
      "outputs": [
        {
          "output_type": "execute_result",
          "data": {
            "text/html": [
              "<div>\n",
              "<style scoped>\n",
              "    .dataframe tbody tr th:only-of-type {\n",
              "        vertical-align: middle;\n",
              "    }\n",
              "\n",
              "    .dataframe tbody tr th {\n",
              "        vertical-align: top;\n",
              "    }\n",
              "\n",
              "    .dataframe thead th {\n",
              "        text-align: right;\n",
              "    }\n",
              "</style>\n",
              "<table border=\"1\" class=\"dataframe\">\n",
              "  <thead>\n",
              "    <tr style=\"text-align: right;\">\n",
              "      <th></th>\n",
              "      <th>User ID</th>\n",
              "      <th>Gender</th>\n",
              "      <th>Age</th>\n",
              "      <th>EstimatedSalary</th>\n",
              "      <th>Purchased</th>\n",
              "    </tr>\n",
              "  </thead>\n",
              "  <tbody>\n",
              "    <tr>\n",
              "      <th>0</th>\n",
              "      <td>15624510</td>\n",
              "      <td>Male</td>\n",
              "      <td>19</td>\n",
              "      <td>19000</td>\n",
              "      <td>0</td>\n",
              "    </tr>\n",
              "    <tr>\n",
              "      <th>1</th>\n",
              "      <td>15810944</td>\n",
              "      <td>Male</td>\n",
              "      <td>35</td>\n",
              "      <td>20000</td>\n",
              "      <td>0</td>\n",
              "    </tr>\n",
              "    <tr>\n",
              "      <th>2</th>\n",
              "      <td>15668575</td>\n",
              "      <td>Female</td>\n",
              "      <td>26</td>\n",
              "      <td>43000</td>\n",
              "      <td>0</td>\n",
              "    </tr>\n",
              "    <tr>\n",
              "      <th>3</th>\n",
              "      <td>15603246</td>\n",
              "      <td>Female</td>\n",
              "      <td>27</td>\n",
              "      <td>57000</td>\n",
              "      <td>0</td>\n",
              "    </tr>\n",
              "    <tr>\n",
              "      <th>4</th>\n",
              "      <td>15804002</td>\n",
              "      <td>Male</td>\n",
              "      <td>19</td>\n",
              "      <td>76000</td>\n",
              "      <td>0</td>\n",
              "    </tr>\n",
              "    <tr>\n",
              "      <th>...</th>\n",
              "      <td>...</td>\n",
              "      <td>...</td>\n",
              "      <td>...</td>\n",
              "      <td>...</td>\n",
              "      <td>...</td>\n",
              "    </tr>\n",
              "    <tr>\n",
              "      <th>95</th>\n",
              "      <td>15709441</td>\n",
              "      <td>Female</td>\n",
              "      <td>35</td>\n",
              "      <td>44000</td>\n",
              "      <td>0</td>\n",
              "    </tr>\n",
              "    <tr>\n",
              "      <th>96</th>\n",
              "      <td>15710257</td>\n",
              "      <td>Female</td>\n",
              "      <td>35</td>\n",
              "      <td>25000</td>\n",
              "      <td>0</td>\n",
              "    </tr>\n",
              "    <tr>\n",
              "      <th>97</th>\n",
              "      <td>15582492</td>\n",
              "      <td>Male</td>\n",
              "      <td>28</td>\n",
              "      <td>123000</td>\n",
              "      <td>1</td>\n",
              "    </tr>\n",
              "    <tr>\n",
              "      <th>98</th>\n",
              "      <td>15575694</td>\n",
              "      <td>Male</td>\n",
              "      <td>35</td>\n",
              "      <td>73000</td>\n",
              "      <td>0</td>\n",
              "    </tr>\n",
              "    <tr>\n",
              "      <th>99</th>\n",
              "      <td>15756820</td>\n",
              "      <td>Female</td>\n",
              "      <td>28</td>\n",
              "      <td>37000</td>\n",
              "      <td>0</td>\n",
              "    </tr>\n",
              "  </tbody>\n",
              "</table>\n",
              "<p>100 rows × 5 columns</p>\n",
              "</div>"
            ],
            "text/plain": [
              "     User ID  Gender  Age  EstimatedSalary  Purchased\n",
              "0   15624510    Male   19            19000          0\n",
              "1   15810944    Male   35            20000          0\n",
              "2   15668575  Female   26            43000          0\n",
              "3   15603246  Female   27            57000          0\n",
              "4   15804002    Male   19            76000          0\n",
              "..       ...     ...  ...              ...        ...\n",
              "95  15709441  Female   35            44000          0\n",
              "96  15710257  Female   35            25000          0\n",
              "97  15582492    Male   28           123000          1\n",
              "98  15575694    Male   35            73000          0\n",
              "99  15756820  Female   28            37000          0\n",
              "\n",
              "[100 rows x 5 columns]"
            ]
          },
          "metadata": {
            "tags": []
          },
          "execution_count": 12
        }
      ]
    },
    {
      "cell_type": "code",
      "metadata": {
        "id": "OPKkrHrQEwQc",
        "colab_type": "code",
        "colab": {
          "base_uri": "https://localhost:8080/",
          "height": 284
        },
        "outputId": "671b79ac-f37d-46f9-b0ef-bbc404913ae2"
      },
      "source": [
        "dataset.describe()\n"
      ],
      "execution_count": 14,
      "outputs": [
        {
          "output_type": "execute_result",
          "data": {
            "text/html": [
              "<div>\n",
              "<style scoped>\n",
              "    .dataframe tbody tr th:only-of-type {\n",
              "        vertical-align: middle;\n",
              "    }\n",
              "\n",
              "    .dataframe tbody tr th {\n",
              "        vertical-align: top;\n",
              "    }\n",
              "\n",
              "    .dataframe thead th {\n",
              "        text-align: right;\n",
              "    }\n",
              "</style>\n",
              "<table border=\"1\" class=\"dataframe\">\n",
              "  <thead>\n",
              "    <tr style=\"text-align: right;\">\n",
              "      <th></th>\n",
              "      <th>User ID</th>\n",
              "      <th>Age</th>\n",
              "      <th>EstimatedSalary</th>\n",
              "      <th>Purchased</th>\n",
              "    </tr>\n",
              "  </thead>\n",
              "  <tbody>\n",
              "    <tr>\n",
              "      <th>count</th>\n",
              "      <td>4.000000e+02</td>\n",
              "      <td>400.000000</td>\n",
              "      <td>400.000000</td>\n",
              "      <td>400.000000</td>\n",
              "    </tr>\n",
              "    <tr>\n",
              "      <th>mean</th>\n",
              "      <td>1.569154e+07</td>\n",
              "      <td>37.655000</td>\n",
              "      <td>69742.500000</td>\n",
              "      <td>0.357500</td>\n",
              "    </tr>\n",
              "    <tr>\n",
              "      <th>std</th>\n",
              "      <td>7.165832e+04</td>\n",
              "      <td>10.482877</td>\n",
              "      <td>34096.960282</td>\n",
              "      <td>0.479864</td>\n",
              "    </tr>\n",
              "    <tr>\n",
              "      <th>min</th>\n",
              "      <td>1.556669e+07</td>\n",
              "      <td>18.000000</td>\n",
              "      <td>15000.000000</td>\n",
              "      <td>0.000000</td>\n",
              "    </tr>\n",
              "    <tr>\n",
              "      <th>25%</th>\n",
              "      <td>1.562676e+07</td>\n",
              "      <td>29.750000</td>\n",
              "      <td>43000.000000</td>\n",
              "      <td>0.000000</td>\n",
              "    </tr>\n",
              "    <tr>\n",
              "      <th>50%</th>\n",
              "      <td>1.569434e+07</td>\n",
              "      <td>37.000000</td>\n",
              "      <td>70000.000000</td>\n",
              "      <td>0.000000</td>\n",
              "    </tr>\n",
              "    <tr>\n",
              "      <th>75%</th>\n",
              "      <td>1.575036e+07</td>\n",
              "      <td>46.000000</td>\n",
              "      <td>88000.000000</td>\n",
              "      <td>1.000000</td>\n",
              "    </tr>\n",
              "    <tr>\n",
              "      <th>max</th>\n",
              "      <td>1.581524e+07</td>\n",
              "      <td>60.000000</td>\n",
              "      <td>150000.000000</td>\n",
              "      <td>1.000000</td>\n",
              "    </tr>\n",
              "  </tbody>\n",
              "</table>\n",
              "</div>"
            ],
            "text/plain": [
              "            User ID         Age  EstimatedSalary   Purchased\n",
              "count  4.000000e+02  400.000000       400.000000  400.000000\n",
              "mean   1.569154e+07   37.655000     69742.500000    0.357500\n",
              "std    7.165832e+04   10.482877     34096.960282    0.479864\n",
              "min    1.556669e+07   18.000000     15000.000000    0.000000\n",
              "25%    1.562676e+07   29.750000     43000.000000    0.000000\n",
              "50%    1.569434e+07   37.000000     70000.000000    0.000000\n",
              "75%    1.575036e+07   46.000000     88000.000000    1.000000\n",
              "max    1.581524e+07   60.000000    150000.000000    1.000000"
            ]
          },
          "metadata": {
            "tags": []
          },
          "execution_count": 14
        }
      ]
    },
    {
      "cell_type": "code",
      "metadata": {
        "id": "v7mnd-vRFZ2I",
        "colab_type": "code",
        "colab": {}
      },
      "source": [
        "x = dataset.iloc[:,[2,3]].values\n",
        "\n",
        "y = dataset.iloc[:,4].values\n"
      ],
      "execution_count": 0,
      "outputs": []
    },
    {
      "cell_type": "code",
      "metadata": {
        "id": "2-vzh4IMH4lg",
        "colab_type": "code",
        "colab": {}
      },
      "source": [
        "from sklearn.model_selection import train_test_split\n",
        "\n",
        "x_train, x_test, y_train, y_test = train_test_split(x,y,test_size=0.2)"
      ],
      "execution_count": 0,
      "outputs": []
    },
    {
      "cell_type": "code",
      "metadata": {
        "id": "Fd_l_KX5J-bZ",
        "colab_type": "code",
        "colab": {}
      },
      "source": [
        "from sklearn import tree\n",
        "clf = tree.DecisionTreeClassifier()\n",
        "\n",
        "clf = clf.fit(x_train, y_train)"
      ],
      "execution_count": 0,
      "outputs": []
    },
    {
      "cell_type": "code",
      "metadata": {
        "id": "GwLVA5lrLPwN",
        "colab_type": "code",
        "colab": {
          "base_uri": "https://localhost:8080/",
          "height": 1000
        },
        "outputId": "22a75171-57b9-4950-b010-a6a0f525d046"
      },
      "source": [
        " tree.plot_tree(clf) "
      ],
      "execution_count": 26,
      "outputs": [
        {
          "output_type": "execute_result",
          "data": {
            "text/plain": [
              "[Text(189.42631578947368, 210.192, 'X[0] <= 44.5\\ngini = 0.47\\nsamples = 320\\nvalue = [199, 121]'),\n",
              " Text(127.75263157894737, 195.696, 'X[1] <= 90500.0\\ngini = 0.307\\nsamples = 232\\nvalue = [188, 44]'),\n",
              " Text(70.48421052631579, 181.2, 'X[0] <= 36.5\\ngini = 0.089\\nsamples = 193\\nvalue = [184, 9]'),\n",
              " Text(61.67368421052632, 166.704, 'gini = 0.0\\nsamples = 128\\nvalue = [128, 0]'),\n",
              " Text(79.29473684210527, 166.704, 'X[1] <= 83500.0\\ngini = 0.239\\nsamples = 65\\nvalue = [56, 9]'),\n",
              " Text(70.48421052631579, 152.208, 'X[1] <= 67500.0\\ngini = 0.198\\nsamples = 63\\nvalue = [56, 7]'),\n",
              " Text(61.67368421052632, 137.712, 'gini = 0.0\\nsamples = 29\\nvalue = [29, 0]'),\n",
              " Text(79.29473684210527, 137.712, 'X[0] <= 41.5\\ngini = 0.327\\nsamples = 34\\nvalue = [27, 7]'),\n",
              " Text(61.67368421052632, 123.216, 'X[1] <= 70500.0\\ngini = 0.285\\nsamples = 29\\nvalue = [24, 5]'),\n",
              " Text(52.863157894736844, 108.72, 'gini = 0.0\\nsamples = 1\\nvalue = [0, 1]'),\n",
              " Text(70.48421052631579, 108.72, 'X[0] <= 40.5\\ngini = 0.245\\nsamples = 28\\nvalue = [24, 4]'),\n",
              " Text(61.67368421052632, 94.22399999999999, 'X[1] <= 77500.0\\ngini = 0.308\\nsamples = 21\\nvalue = [17, 4]'),\n",
              " Text(35.242105263157896, 79.72799999999998, 'X[0] <= 38.5\\ngini = 0.231\\nsamples = 15\\nvalue = [13, 2]'),\n",
              " Text(26.431578947368422, 65.232, 'gini = 0.0\\nsamples = 7\\nvalue = [7, 0]'),\n",
              " Text(44.05263157894737, 65.232, 'X[1] <= 76000.0\\ngini = 0.375\\nsamples = 8\\nvalue = [6, 2]'),\n",
              " Text(35.242105263157896, 50.73599999999999, 'X[1] <= 74000.0\\ngini = 0.408\\nsamples = 7\\nvalue = [5, 2]'),\n",
              " Text(17.621052631578948, 36.23999999999998, 'X[0] <= 39.5\\ngini = 0.32\\nsamples = 5\\nvalue = [4, 1]'),\n",
              " Text(8.810526315789474, 21.744, 'gini = 0.0\\nsamples = 3\\nvalue = [3, 0]'),\n",
              " Text(26.431578947368422, 21.744, 'X[1] <= 71500.0\\ngini = 0.5\\nsamples = 2\\nvalue = [1, 1]'),\n",
              " Text(17.621052631578948, 7.2479999999999905, 'gini = 0.0\\nsamples = 1\\nvalue = [0, 1]'),\n",
              " Text(35.242105263157896, 7.2479999999999905, 'gini = 0.0\\nsamples = 1\\nvalue = [1, 0]'),\n",
              " Text(52.863157894736844, 36.23999999999998, 'X[0] <= 39.5\\ngini = 0.5\\nsamples = 2\\nvalue = [1, 1]'),\n",
              " Text(44.05263157894737, 21.744, 'gini = 0.0\\nsamples = 1\\nvalue = [0, 1]'),\n",
              " Text(61.67368421052632, 21.744, 'gini = 0.0\\nsamples = 1\\nvalue = [1, 0]'),\n",
              " Text(52.863157894736844, 50.73599999999999, 'gini = 0.0\\nsamples = 1\\nvalue = [1, 0]'),\n",
              " Text(88.10526315789474, 79.72799999999998, 'X[0] <= 37.5\\ngini = 0.444\\nsamples = 6\\nvalue = [4, 2]'),\n",
              " Text(79.29473684210527, 65.232, 'X[1] <= 79500.0\\ngini = 0.444\\nsamples = 3\\nvalue = [1, 2]'),\n",
              " Text(70.48421052631579, 50.73599999999999, 'gini = 0.0\\nsamples = 2\\nvalue = [0, 2]'),\n",
              " Text(88.10526315789474, 50.73599999999999, 'gini = 0.0\\nsamples = 1\\nvalue = [1, 0]'),\n",
              " Text(96.91578947368421, 65.232, 'gini = 0.0\\nsamples = 3\\nvalue = [3, 0]'),\n",
              " Text(79.29473684210527, 94.22399999999999, 'gini = 0.0\\nsamples = 7\\nvalue = [7, 0]'),\n",
              " Text(96.91578947368421, 123.216, 'X[1] <= 71500.0\\ngini = 0.48\\nsamples = 5\\nvalue = [3, 2]'),\n",
              " Text(88.10526315789474, 108.72, 'gini = 0.0\\nsamples = 1\\nvalue = [1, 0]'),\n",
              " Text(105.72631578947369, 108.72, 'X[1] <= 76000.0\\ngini = 0.5\\nsamples = 4\\nvalue = [2, 2]'),\n",
              " Text(96.91578947368421, 94.22399999999999, 'gini = 0.0\\nsamples = 1\\nvalue = [0, 1]'),\n",
              " Text(114.53684210526316, 94.22399999999999, 'X[1] <= 79500.0\\ngini = 0.444\\nsamples = 3\\nvalue = [2, 1]'),\n",
              " Text(105.72631578947369, 79.72799999999998, 'gini = 0.0\\nsamples = 1\\nvalue = [1, 0]'),\n",
              " Text(123.34736842105264, 79.72799999999998, 'gini = 0.5\\nsamples = 2\\nvalue = [1, 1]'),\n",
              " Text(88.10526315789474, 152.208, 'gini = 0.0\\nsamples = 2\\nvalue = [0, 2]'),\n",
              " Text(185.02105263157895, 181.2, 'X[1] <= 133500.0\\ngini = 0.184\\nsamples = 39\\nvalue = [4, 35]'),\n",
              " Text(176.21052631578948, 166.704, 'X[1] <= 129500.0\\ngini = 0.269\\nsamples = 25\\nvalue = [4, 21]'),\n",
              " Text(167.4, 152.208, 'X[0] <= 35.5\\ngini = 0.219\\nsamples = 24\\nvalue = [3, 21]'),\n",
              " Text(158.58947368421053, 137.712, 'X[1] <= 107500.0\\ngini = 0.355\\nsamples = 13\\nvalue = [3, 10]'),\n",
              " Text(149.77894736842106, 123.216, 'gini = 0.0\\nsamples = 5\\nvalue = [0, 5]'),\n",
              " Text(167.4, 123.216, 'X[1] <= 116500.0\\ngini = 0.469\\nsamples = 8\\nvalue = [3, 5]'),\n",
              " Text(158.58947368421053, 108.72, 'X[1] <= 113500.0\\ngini = 0.375\\nsamples = 4\\nvalue = [3, 1]'),\n",
              " Text(149.77894736842106, 94.22399999999999, 'X[0] <= 34.5\\ngini = 0.5\\nsamples = 2\\nvalue = [1, 1]'),\n",
              " Text(140.96842105263158, 79.72799999999998, 'gini = 0.0\\nsamples = 1\\nvalue = [0, 1]'),\n",
              " Text(158.58947368421053, 79.72799999999998, 'gini = 0.0\\nsamples = 1\\nvalue = [1, 0]'),\n",
              " Text(167.4, 94.22399999999999, 'gini = 0.0\\nsamples = 2\\nvalue = [2, 0]'),\n",
              " Text(176.21052631578948, 108.72, 'gini = 0.0\\nsamples = 4\\nvalue = [0, 4]'),\n",
              " Text(176.21052631578948, 137.712, 'gini = 0.0\\nsamples = 11\\nvalue = [0, 11]'),\n",
              " Text(185.02105263157895, 152.208, 'gini = 0.0\\nsamples = 1\\nvalue = [1, 0]'),\n",
              " Text(193.83157894736843, 166.704, 'gini = 0.0\\nsamples = 14\\nvalue = [0, 14]'),\n",
              " Text(251.10000000000002, 195.696, 'X[0] <= 46.5\\ngini = 0.219\\nsamples = 88\\nvalue = [11, 77]'),\n",
              " Text(220.26315789473685, 181.2, 'X[0] <= 45.5\\ngini = 0.444\\nsamples = 15\\nvalue = [5, 10]'),\n",
              " Text(211.45263157894738, 166.704, 'gini = 0.0\\nsamples = 6\\nvalue = [0, 6]'),\n",
              " Text(229.07368421052632, 166.704, 'X[1] <= 106500.0\\ngini = 0.494\\nsamples = 9\\nvalue = [5, 4]'),\n",
              " Text(220.26315789473685, 152.208, 'X[1] <= 50000.0\\ngini = 0.469\\nsamples = 8\\nvalue = [5, 3]'),\n",
              " Text(202.6421052631579, 137.712, 'X[1] <= 22500.0\\ngini = 0.444\\nsamples = 3\\nvalue = [1, 2]'),\n",
              " Text(193.83157894736843, 123.216, 'gini = 0.0\\nsamples = 1\\nvalue = [1, 0]'),\n",
              " Text(211.45263157894738, 123.216, 'gini = 0.0\\nsamples = 2\\nvalue = [0, 2]'),\n",
              " Text(237.8842105263158, 137.712, 'X[1] <= 85000.0\\ngini = 0.32\\nsamples = 5\\nvalue = [4, 1]'),\n",
              " Text(229.07368421052632, 123.216, 'gini = 0.0\\nsamples = 3\\nvalue = [3, 0]'),\n",
              " Text(246.69473684210527, 123.216, 'X[1] <= 92000.0\\ngini = 0.5\\nsamples = 2\\nvalue = [1, 1]'),\n",
              " Text(237.8842105263158, 108.72, 'gini = 0.0\\nsamples = 1\\nvalue = [0, 1]'),\n",
              " Text(255.50526315789475, 108.72, 'gini = 0.0\\nsamples = 1\\nvalue = [1, 0]'),\n",
              " Text(237.8842105263158, 152.208, 'gini = 0.0\\nsamples = 1\\nvalue = [0, 1]'),\n",
              " Text(281.93684210526317, 181.2, 'X[1] <= 41500.0\\ngini = 0.151\\nsamples = 73\\nvalue = [6, 67]'),\n",
              " Text(273.12631578947367, 166.704, 'gini = 0.0\\nsamples = 24\\nvalue = [0, 24]'),\n",
              " Text(290.74736842105267, 166.704, 'X[1] <= 48000.0\\ngini = 0.215\\nsamples = 49\\nvalue = [6, 43]'),\n",
              " Text(273.12631578947367, 152.208, 'X[0] <= 59.5\\ngini = 0.5\\nsamples = 6\\nvalue = [3, 3]'),\n",
              " Text(264.3157894736842, 137.712, 'gini = 0.0\\nsamples = 3\\nvalue = [3, 0]'),\n",
              " Text(281.93684210526317, 137.712, 'gini = 0.0\\nsamples = 3\\nvalue = [0, 3]'),\n",
              " Text(308.36842105263156, 152.208, 'X[0] <= 52.5\\ngini = 0.13\\nsamples = 43\\nvalue = [3, 40]'),\n",
              " Text(299.5578947368421, 137.712, 'X[0] <= 50.5\\ngini = 0.219\\nsamples = 24\\nvalue = [3, 21]'),\n",
              " Text(281.93684210526317, 123.216, 'X[1] <= 69500.0\\ngini = 0.1\\nsamples = 19\\nvalue = [1, 18]'),\n",
              " Text(273.12631578947367, 108.72, 'X[1] <= 58000.0\\ngini = 0.375\\nsamples = 4\\nvalue = [1, 3]'),\n",
              " Text(264.3157894736842, 94.22399999999999, 'gini = 0.0\\nsamples = 3\\nvalue = [0, 3]'),\n",
              " Text(281.93684210526317, 94.22399999999999, 'gini = 0.0\\nsamples = 1\\nvalue = [1, 0]'),\n",
              " Text(290.74736842105267, 108.72, 'gini = 0.0\\nsamples = 15\\nvalue = [0, 15]'),\n",
              " Text(317.17894736842106, 123.216, 'X[1] <= 136000.0\\ngini = 0.48\\nsamples = 5\\nvalue = [2, 3]'),\n",
              " Text(308.36842105263156, 108.72, 'X[1] <= 102000.0\\ngini = 0.444\\nsamples = 3\\nvalue = [2, 1]'),\n",
              " Text(299.5578947368421, 94.22399999999999, 'gini = 0.0\\nsamples = 1\\nvalue = [0, 1]'),\n",
              " Text(317.17894736842106, 94.22399999999999, 'gini = 0.0\\nsamples = 2\\nvalue = [2, 0]'),\n",
              " Text(325.98947368421057, 108.72, 'gini = 0.0\\nsamples = 2\\nvalue = [0, 2]'),\n",
              " Text(317.17894736842106, 137.712, 'gini = 0.0\\nsamples = 19\\nvalue = [0, 19]')]"
            ]
          },
          "metadata": {
            "tags": []
          },
          "execution_count": 26
        },
        {
          "output_type": "display_data",
          "data": {
            "image/png": "[encoded data removed]",
            "text/plain": [
              "<Figure size 432x288 with 1 Axes>"
            ]
          },
          "metadata": {
            "tags": [],
            "needs_background": "light"
          }
        }
      ]
    },
    {
      "cell_type": "code",
      "metadata": {
        "id": "LEhgKbqNPZy6",
        "colab_type": "code",
        "colab": {}
      },
      "source": [
        "y_pred=clf.predict(x_test)"
      ],
      "execution_count": 0,
      "outputs": []
    },
    {
      "cell_type": "code",
      "metadata": {
        "id": "8bKEFnohPqSt",
        "colab_type": "code",
        "colab": {
          "base_uri": "https://localhost:8080/",
          "height": 84
        },
        "outputId": "aaab4387-2c33-4bab-be7a-c58cbd090711"
      },
      "source": [
        "y_pred\n"
      ],
      "execution_count": 29,
      "outputs": [
        {
          "output_type": "execute_result",
          "data": {
            "text/plain": [
              "array([0, 1, 1, 0, 1, 1, 0, 1, 0, 0, 0, 0, 0, 1, 1, 1, 1, 0, 0, 0, 0, 0,\n",
              "       1, 0, 0, 0, 0, 0, 0, 0, 0, 1, 0, 1, 0, 1, 0, 0, 0, 1, 0, 0, 1, 0,\n",
              "       1, 0, 0, 0, 0, 1, 0, 1, 1, 1, 0, 1, 0, 1, 0, 0, 1, 0, 1, 0, 0, 1,\n",
              "       0, 1, 1, 0, 0, 0, 0, 0, 1, 1, 0, 0, 0, 0])"
            ]
          },
          "metadata": {
            "tags": []
          },
          "execution_count": 29
        }
      ]
    },
    {
      "cell_type": "code",
      "metadata": {
        "id": "wvi5CEG0QPKT",
        "colab_type": "code",
        "colab": {
          "base_uri": "https://localhost:8080/",
          "height": 34
        },
        "outputId": "3382a91c-27a9-4f07-edb7-1e2c96671a71"
      },
      "source": [
        "from sklearn.metrics import accuracy_score\n",
        "\n",
        "accuracy_score(y_pred,y_test)"
      ],
      "execution_count": 31,
      "outputs": [
        {
          "output_type": "execute_result",
          "data": {
            "text/plain": [
              "0.8625"
            ]
          },
          "metadata": {
            "tags": []
          },
          "execution_count": 31
        }
      ]
    },
    {
      "cell_type": "code",
      "metadata": {
        "id": "Rvv_mUxhS1jJ",
        "colab_type": "code",
        "colab": {
          "base_uri": "https://localhost:8080/",
          "height": 54
        },
        "outputId": "c53371be-1ae7-4e24-8337-230493aa14a4"
      },
      "source": [
        "from sklearn.metrics import classification_report\n",
        "\n",
        "classes =['0','1']\n",
        "\n",
        "classification_report(y_test,y_pred,target_names=classes)"
      ],
      "execution_count": 33,
      "outputs": [
        {
          "output_type": "execute_result",
          "data": {
            "text/plain": [
              "'              precision    recall  f1-score   support\\n\\n           0       0.96      0.84      0.90        58\\n           1       0.69      0.91      0.78        22\\n\\n    accuracy                           0.86        80\\n   macro avg       0.83      0.88      0.84        80\\nweighted avg       0.89      0.86      0.87        80\\n'"
            ]
          },
          "metadata": {
            "tags": []
          },
          "execution_count": 33
        }
      ]
    },
    {
      "cell_type": "code",
      "metadata": {
        "id": "7UMiPx1RT5X0",
        "colab_type": "code",
        "colab": {
          "base_uri": "https://localhost:8080/",
          "height": 402
        },
        "outputId": "0f2d86f6-fcb3-4bcc-b8e0-d736b8bf810e"
      },
      "source": [
        "df=pd.DataFrame({'Actual':y_test,'Predicted':y_pred})\n",
        "df"
      ],
      "execution_count": 35,
      "outputs": [
        {
          "output_type": "execute_result",
          "data": {
            "text/html": [
              "<div>\n",
              "<style scoped>\n",
              "    .dataframe tbody tr th:only-of-type {\n",
              "        vertical-align: middle;\n",
              "    }\n",
              "\n",
              "    .dataframe tbody tr th {\n",
              "        vertical-align: top;\n",
              "    }\n",
              "\n",
              "    .dataframe thead th {\n",
              "        text-align: right;\n",
              "    }\n",
              "</style>\n",
              "<table border=\"1\" class=\"dataframe\">\n",
              "  <thead>\n",
              "    <tr style=\"text-align: right;\">\n",
              "      <th></th>\n",
              "      <th>Actual</th>\n",
              "      <th>Predicted</th>\n",
              "    </tr>\n",
              "  </thead>\n",
              "  <tbody>\n",
              "    <tr>\n",
              "      <th>0</th>\n",
              "      <td>0</td>\n",
              "      <td>0</td>\n",
              "    </tr>\n",
              "    <tr>\n",
              "      <th>1</th>\n",
              "      <td>1</td>\n",
              "      <td>1</td>\n",
              "    </tr>\n",
              "    <tr>\n",
              "      <th>2</th>\n",
              "      <td>1</td>\n",
              "      <td>1</td>\n",
              "    </tr>\n",
              "    <tr>\n",
              "      <th>3</th>\n",
              "      <td>0</td>\n",
              "      <td>0</td>\n",
              "    </tr>\n",
              "    <tr>\n",
              "      <th>4</th>\n",
              "      <td>1</td>\n",
              "      <td>1</td>\n",
              "    </tr>\n",
              "    <tr>\n",
              "      <th>...</th>\n",
              "      <td>...</td>\n",
              "      <td>...</td>\n",
              "    </tr>\n",
              "    <tr>\n",
              "      <th>75</th>\n",
              "      <td>1</td>\n",
              "      <td>1</td>\n",
              "    </tr>\n",
              "    <tr>\n",
              "      <th>76</th>\n",
              "      <td>0</td>\n",
              "      <td>0</td>\n",
              "    </tr>\n",
              "    <tr>\n",
              "      <th>77</th>\n",
              "      <td>0</td>\n",
              "      <td>0</td>\n",
              "    </tr>\n",
              "    <tr>\n",
              "      <th>78</th>\n",
              "      <td>0</td>\n",
              "      <td>0</td>\n",
              "    </tr>\n",
              "    <tr>\n",
              "      <th>79</th>\n",
              "      <td>0</td>\n",
              "      <td>0</td>\n",
              "    </tr>\n",
              "  </tbody>\n",
              "</table>\n",
              "<p>80 rows × 2 columns</p>\n",
              "</div>"
            ],
            "text/plain": [
              "    Actual  Predicted\n",
              "0        0          0\n",
              "1        1          1\n",
              "2        1          1\n",
              "3        0          0\n",
              "4        1          1\n",
              "..     ...        ...\n",
              "75       1          1\n",
              "76       0          0\n",
              "77       0          0\n",
              "78       0          0\n",
              "79       0          0\n",
              "\n",
              "[80 rows x 2 columns]"
            ]
          },
          "metadata": {
            "tags": []
          },
          "execution_count": 35
        }
      ]
    },
    {
      "cell_type": "code",
      "metadata": {
        "id": "Gkixyl5vUs1Z",
        "colab_type": "code",
        "colab": {
          "base_uri": "https://localhost:8080/",
          "height": 587
        },
        "outputId": "c9d4dac2-ee19-44e7-f47a-4836ac133ff4"
      },
      "source": [
        "import matplotlib.pyplot as plt\n",
        "df1 = df.head(25)\n",
        "df1.plot(kind='bar',figsize=(25,10))\n",
        "plt.grid(which='major', linestyle='-', linewidth='1', color=\"green\" )\n",
        "plt.grid(which='minor', linestyle=':', linewidth='1', color=\"black\" )\n",
        "plt.show()\n"
      ],
      "execution_count": 43,
      "outputs": [
        {
          "output_type": "display_data",
          "data": {
            "image/png": "[encoded data removed]",
            "text/plain": [
              "<Figure size 1800x720 with 1 Axes>"
            ]
          },
          "metadata": {
            "tags": [],
            "needs_background": "light"
          }
        }
      ]
    }
  ]
}